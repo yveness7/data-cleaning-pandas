{
 "cells": [
  {
   "cell_type": "code",
   "execution_count": 29,
   "id": "4230a395",
   "metadata": {},
   "outputs": [],
   "source": [
    "import pandas as pd\n",
    "\n",
    "url = 'https://raw.githubusercontent.com/yveness7/IronHackIvet/main/Week_2/sharkattack!/sharks.csv'\n",
    "\n",
    "sharks_df = pd.read_csv(url)\n"
   ]
  },
  {
   "cell_type": "code",
   "execution_count": 30,
   "id": "0bb60f29",
   "metadata": {},
   "outputs": [
    {
     "data": {
      "text/plain": [
       "Index(['Date', 'Year', 'Type', 'Country', 'State', 'Location', 'Activity',\n",
       "       'Name', 'Sex', 'Age', 'Injury', 'Unnamed: 11', 'Time', 'Species ',\n",
       "       'Source', 'pdf', 'href formula', 'href', 'Case Number', 'Case Number.1',\n",
       "       'original order', 'Unnamed: 21', 'Unnamed: 22'],\n",
       "      dtype='object')"
      ]
     },
     "execution_count": 30,
     "metadata": {},
     "output_type": "execute_result"
    }
   ],
   "source": [
    "sharks_df.columns"
   ]
  },
  {
   "cell_type": "code",
   "execution_count": 31,
   "id": "f45588ed",
   "metadata": {},
   "outputs": [],
   "source": [
    "sharks_df.drop(\"pdf\", axis='columns',inplace=True)\n",
    "sharks_df.drop(\"href formula\", axis='columns',inplace=True)\n",
    "sharks_df.drop(\"href\", axis='columns',inplace=True)\n",
    "sharks_df.drop(\"Case Number\", axis='columns',inplace=True)\n",
    "sharks_df.drop(\"Case Number.1\", axis='columns',inplace=True)\n",
    "sharks_df.drop(\"original order\", axis='columns',inplace=True)\n",
    "sharks_df.drop(\"Unnamed: 21\", axis='columns',inplace=True)\n",
    "sharks_df.drop(\"Unnamed: 22\", axis='columns',inplace=True)\n",
    "sharks_df.drop(\"Unnamed: 11\", axis='columns',inplace=True)\n"
   ]
  },
  {
   "cell_type": "code",
   "execution_count": 32,
   "id": "d29091a8",
   "metadata": {},
   "outputs": [
    {
     "data": {
      "text/plain": [
       "Index(['Date', 'Year', 'Type', 'Country', 'State', 'Location', 'Activity',\n",
       "       'Name', 'Sex', 'Age', 'Injury', 'Time', 'Species ', 'Source'],\n",
       "      dtype='object')"
      ]
     },
     "execution_count": 32,
     "metadata": {},
     "output_type": "execute_result"
    }
   ],
   "source": [
    "sharks_df.columns"
   ]
  },
  {
   "cell_type": "code",
   "execution_count": 35,
   "id": "d179daf1",
   "metadata": {},
   "outputs": [
    {
     "data": {
      "text/plain": [
       "Index(['date', 'year', 'type', 'country', 'state', 'location', 'activity',\n",
       "       'name', 'sex', 'age', 'injury', 'time', 'species ', 'source'],\n",
       "      dtype='object')"
      ]
     },
     "execution_count": 35,
     "metadata": {},
     "output_type": "execute_result"
    }
   ],
   "source": [
    "sharks_df.columns = ['date', 'year', 'type', 'country', 'state', 'location', 'activity','name', 'sex', 'age', 'injury', 'time', 'species ', 'source']\n",
    "sharks_df.columns"
   ]
  },
  {
   "cell_type": "code",
   "execution_count": 36,
   "id": "1339a573",
   "metadata": {},
   "outputs": [
    {
     "data": {
      "text/html": [
       "<div>\n",
       "<style scoped>\n",
       "    .dataframe tbody tr th:only-of-type {\n",
       "        vertical-align: middle;\n",
       "    }\n",
       "\n",
       "    .dataframe tbody tr th {\n",
       "        vertical-align: top;\n",
       "    }\n",
       "\n",
       "    .dataframe thead th {\n",
       "        text-align: right;\n",
       "    }\n",
       "</style>\n",
       "<table border=\"1\" class=\"dataframe\">\n",
       "  <thead>\n",
       "    <tr style=\"text-align: right;\">\n",
       "      <th></th>\n",
       "      <th>date</th>\n",
       "      <th>year</th>\n",
       "      <th>type</th>\n",
       "      <th>country</th>\n",
       "      <th>state</th>\n",
       "      <th>location</th>\n",
       "      <th>activity</th>\n",
       "      <th>name</th>\n",
       "      <th>sex</th>\n",
       "      <th>age</th>\n",
       "      <th>injury</th>\n",
       "      <th>time</th>\n",
       "      <th>species</th>\n",
       "      <th>source</th>\n",
       "    </tr>\n",
       "  </thead>\n",
       "  <tbody>\n",
       "    <tr>\n",
       "      <th>0</th>\n",
       "      <td>15 Oct-2023</td>\n",
       "      <td>2023.0</td>\n",
       "      <td>Unprovoked</td>\n",
       "      <td>USA</td>\n",
       "      <td>Hawaii</td>\n",
       "      <td>Hanalei Bay, Kauai</td>\n",
       "      <td>Surfing</td>\n",
       "      <td>Kevin Kanehe</td>\n",
       "      <td>M</td>\n",
       "      <td>50</td>\n",
       "      <td>Left leg and hand injured</td>\n",
       "      <td>16h00</td>\n",
       "      <td>Tiger shark, 12' to 15'</td>\n",
       "      <td>Kaua'i Now, 10/15/2023</td>\n",
       "    </tr>\n",
       "    <tr>\n",
       "      <th>1</th>\n",
       "      <td>13 Oct-2023</td>\n",
       "      <td>2023.0</td>\n",
       "      <td>Questionable</td>\n",
       "      <td>USA</td>\n",
       "      <td>California</td>\n",
       "      <td>Linda Mar, Pacific State Beach, San Mateo County</td>\n",
       "      <td>Surfing</td>\n",
       "      <td>male</td>\n",
       "      <td>M</td>\n",
       "      <td>52</td>\n",
       "      <td>Minor linjury to left lower leg</td>\n",
       "      <td>15h45</td>\n",
       "      <td>NaN</td>\n",
       "      <td>CBS News. 10/13/2023</td>\n",
       "    </tr>\n",
       "    <tr>\n",
       "      <th>2</th>\n",
       "      <td>02 Oct-2023</td>\n",
       "      <td>2023.0</td>\n",
       "      <td>Unprovoked</td>\n",
       "      <td>USA</td>\n",
       "      <td>Hawaii</td>\n",
       "      <td>Paia, Maui</td>\n",
       "      <td>Surfing</td>\n",
       "      <td>K. Cole</td>\n",
       "      <td>F</td>\n",
       "      <td>45</td>\n",
       "      <td>Minor injury. Shark bit surfboard</td>\n",
       "      <td>13h00</td>\n",
       "      <td>NaN</td>\n",
       "      <td>The Beat of Hawaii, 10/2/2023</td>\n",
       "    </tr>\n",
       "    <tr>\n",
       "      <th>3</th>\n",
       "      <td>01 Oct-2023</td>\n",
       "      <td>2023.0</td>\n",
       "      <td>Unprovoked</td>\n",
       "      <td>AUSTRALIA</td>\n",
       "      <td>South Australia</td>\n",
       "      <td>Beachport</td>\n",
       "      <td>Swimming</td>\n",
       "      <td>Pamela Cook</td>\n",
       "      <td>F</td>\n",
       "      <td>64</td>\n",
       "      <td>Bite to foot and leg</td>\n",
       "      <td>07h45</td>\n",
       "      <td>NaN</td>\n",
       "      <td>B. Myatt, GSAF</td>\n",
       "    </tr>\n",
       "    <tr>\n",
       "      <th>4</th>\n",
       "      <td>01 Oct-2023</td>\n",
       "      <td>2023.0</td>\n",
       "      <td>Unprovoked</td>\n",
       "      <td>USA</td>\n",
       "      <td>California</td>\n",
       "      <td>Wildcat Beach, Marin County</td>\n",
       "      <td>Swimming</td>\n",
       "      <td>Felix Louis N'Jai</td>\n",
       "      <td>M</td>\n",
       "      <td>52</td>\n",
       "      <td>Body not recovered</td>\n",
       "      <td>10h40</td>\n",
       "      <td>NaN</td>\n",
       "      <td>SF Chronicle, 10/10/2023</td>\n",
       "    </tr>\n",
       "    <tr>\n",
       "      <th>...</th>\n",
       "      <td>...</td>\n",
       "      <td>...</td>\n",
       "      <td>...</td>\n",
       "      <td>...</td>\n",
       "      <td>...</td>\n",
       "      <td>...</td>\n",
       "      <td>...</td>\n",
       "      <td>...</td>\n",
       "      <td>...</td>\n",
       "      <td>...</td>\n",
       "      <td>...</td>\n",
       "      <td>...</td>\n",
       "      <td>...</td>\n",
       "      <td>...</td>\n",
       "    </tr>\n",
       "    <tr>\n",
       "      <th>6926</th>\n",
       "      <td>NaN</td>\n",
       "      <td>NaN</td>\n",
       "      <td>NaN</td>\n",
       "      <td>NaN</td>\n",
       "      <td>NaN</td>\n",
       "      <td>NaN</td>\n",
       "      <td>NaN</td>\n",
       "      <td>NaN</td>\n",
       "      <td>NaN</td>\n",
       "      <td>NaN</td>\n",
       "      <td>NaN</td>\n",
       "      <td>NaN</td>\n",
       "      <td>NaN</td>\n",
       "      <td>NaN</td>\n",
       "    </tr>\n",
       "    <tr>\n",
       "      <th>6927</th>\n",
       "      <td>NaN</td>\n",
       "      <td>NaN</td>\n",
       "      <td>NaN</td>\n",
       "      <td>NaN</td>\n",
       "      <td>NaN</td>\n",
       "      <td>NaN</td>\n",
       "      <td>NaN</td>\n",
       "      <td>NaN</td>\n",
       "      <td>NaN</td>\n",
       "      <td>NaN</td>\n",
       "      <td>NaN</td>\n",
       "      <td>NaN</td>\n",
       "      <td>NaN</td>\n",
       "      <td>NaN</td>\n",
       "    </tr>\n",
       "    <tr>\n",
       "      <th>6928</th>\n",
       "      <td>NaN</td>\n",
       "      <td>NaN</td>\n",
       "      <td>NaN</td>\n",
       "      <td>NaN</td>\n",
       "      <td>NaN</td>\n",
       "      <td>NaN</td>\n",
       "      <td>NaN</td>\n",
       "      <td>NaN</td>\n",
       "      <td>NaN</td>\n",
       "      <td>NaN</td>\n",
       "      <td>NaN</td>\n",
       "      <td>NaN</td>\n",
       "      <td>NaN</td>\n",
       "      <td>NaN</td>\n",
       "    </tr>\n",
       "    <tr>\n",
       "      <th>6929</th>\n",
       "      <td>NaN</td>\n",
       "      <td>NaN</td>\n",
       "      <td>NaN</td>\n",
       "      <td>NaN</td>\n",
       "      <td>NaN</td>\n",
       "      <td>NaN</td>\n",
       "      <td>NaN</td>\n",
       "      <td>NaN</td>\n",
       "      <td>NaN</td>\n",
       "      <td>NaN</td>\n",
       "      <td>NaN</td>\n",
       "      <td>NaN</td>\n",
       "      <td>NaN</td>\n",
       "      <td>NaN</td>\n",
       "    </tr>\n",
       "    <tr>\n",
       "      <th>6930</th>\n",
       "      <td>NaN</td>\n",
       "      <td>NaN</td>\n",
       "      <td>NaN</td>\n",
       "      <td>NaN</td>\n",
       "      <td>NaN</td>\n",
       "      <td>NaN</td>\n",
       "      <td>NaN</td>\n",
       "      <td>NaN</td>\n",
       "      <td>NaN</td>\n",
       "      <td>NaN</td>\n",
       "      <td>NaN</td>\n",
       "      <td>NaN</td>\n",
       "      <td>NaN</td>\n",
       "      <td>NaN</td>\n",
       "    </tr>\n",
       "  </tbody>\n",
       "</table>\n",
       "<p>6931 rows × 14 columns</p>\n",
       "</div>"
      ],
      "text/plain": [
       "             date    year          type    country            state  \\\n",
       "0     15 Oct-2023  2023.0    Unprovoked        USA           Hawaii   \n",
       "1     13 Oct-2023  2023.0  Questionable        USA       California   \n",
       "2     02 Oct-2023  2023.0    Unprovoked        USA           Hawaii   \n",
       "3     01 Oct-2023  2023.0    Unprovoked  AUSTRALIA  South Australia   \n",
       "4     01 Oct-2023  2023.0    Unprovoked        USA       California   \n",
       "...           ...     ...           ...        ...              ...   \n",
       "6926          NaN     NaN           NaN        NaN              NaN   \n",
       "6927          NaN     NaN           NaN        NaN              NaN   \n",
       "6928          NaN     NaN           NaN        NaN              NaN   \n",
       "6929          NaN     NaN           NaN        NaN              NaN   \n",
       "6930          NaN     NaN           NaN        NaN              NaN   \n",
       "\n",
       "                                              location  activity  \\\n",
       "0                                   Hanalei Bay, Kauai   Surfing   \n",
       "1     Linda Mar, Pacific State Beach, San Mateo County   Surfing   \n",
       "2                                           Paia, Maui   Surfing   \n",
       "3                                            Beachport  Swimming   \n",
       "4                          Wildcat Beach, Marin County  Swimming   \n",
       "...                                                ...       ...   \n",
       "6926                                               NaN       NaN   \n",
       "6927                                               NaN       NaN   \n",
       "6928                                               NaN       NaN   \n",
       "6929                                               NaN       NaN   \n",
       "6930                                               NaN       NaN   \n",
       "\n",
       "                   name  sex  age                             injury   time  \\\n",
       "0          Kevin Kanehe    M   50          Left leg and hand injured  16h00   \n",
       "1                  male    M   52   Minor linjury to left lower leg   15h45   \n",
       "2               K. Cole    F   45  Minor injury. Shark bit surfboard  13h00   \n",
       "3           Pamela Cook    F   64               Bite to foot and leg  07h45   \n",
       "4     Felix Louis N'Jai    M   52                 Body not recovered  10h40   \n",
       "...                 ...  ...  ...                                ...    ...   \n",
       "6926                NaN  NaN  NaN                                NaN    NaN   \n",
       "6927                NaN  NaN  NaN                                NaN    NaN   \n",
       "6928                NaN  NaN  NaN                                NaN    NaN   \n",
       "6929                NaN  NaN  NaN                                NaN    NaN   \n",
       "6930                NaN  NaN  NaN                                NaN    NaN   \n",
       "\n",
       "                     species                          source  \n",
       "0     Tiger shark, 12' to 15'         Kaua'i Now, 10/15/2023  \n",
       "1                         NaN           CBS News. 10/13/2023  \n",
       "2                         NaN  The Beat of Hawaii, 10/2/2023  \n",
       "3                         NaN                 B. Myatt, GSAF  \n",
       "4                         NaN       SF Chronicle, 10/10/2023  \n",
       "...                       ...                            ...  \n",
       "6926                      NaN                            NaN  \n",
       "6927                      NaN                            NaN  \n",
       "6928                      NaN                            NaN  \n",
       "6929                      NaN                            NaN  \n",
       "6930                      NaN                            NaN  \n",
       "\n",
       "[6931 rows x 14 columns]"
      ]
     },
     "execution_count": 36,
     "metadata": {},
     "output_type": "execute_result"
    }
   ],
   "source": [
    "sharks_df"
   ]
  },
  {
   "cell_type": "code",
   "execution_count": 9,
   "id": "39e16151",
   "metadata": {},
   "outputs": [
    {
     "data": {
      "text/plain": [
       "6785"
      ]
     },
     "execution_count": 9,
     "metadata": {},
     "output_type": "execute_result"
    }
   ],
   "source": [
    "sharks_df['href formula'].nunique()"
   ]
  },
  {
   "cell_type": "code",
   "execution_count": 14,
   "id": "a26f8713",
   "metadata": {},
   "outputs": [
    {
     "data": {
      "text/plain": [
       "Date              True\n",
       "Year              True\n",
       "Type              True\n",
       "Country           True\n",
       "State             True\n",
       "Location          True\n",
       "Activity          True\n",
       "Name              True\n",
       "Sex               True\n",
       "Age               True\n",
       "Injury            True\n",
       "Unnamed: 11       True\n",
       "Time              True\n",
       "Species           True\n",
       "Source            True\n",
       "pdf               True\n",
       "href formula      True\n",
       "href              True\n",
       "Case Number       True\n",
       "Case Number.1     True\n",
       "original order    True\n",
       "Unnamed: 21       True\n",
       "Unnamed: 22       True\n",
       "dtype: bool"
      ]
     },
     "execution_count": 14,
     "metadata": {},
     "output_type": "execute_result"
    }
   ],
   "source": [
    "sharks_df.isna().any()"
   ]
  },
  {
   "cell_type": "code",
   "execution_count": 15,
   "id": "7e078ef8",
   "metadata": {},
   "outputs": [
    {
     "data": {
      "text/plain": [
       "Date                25\n",
       "Year                27\n",
       "Type                43\n",
       "Country             75\n",
       "State              506\n",
       "Location           589\n",
       "Activity           609\n",
       "Name               244\n",
       "Sex                604\n",
       "Age               3011\n",
       "Injury              60\n",
       "Unnamed: 11        587\n",
       "Time              3543\n",
       "Species           3145\n",
       "Source              44\n",
       "pdf                132\n",
       "href formula       112\n",
       "href               135\n",
       "Case Number        133\n",
       "Case Number.1      134\n",
       "original order     132\n",
       "Unnamed: 21       6930\n",
       "Unnamed: 22       6929\n",
       "dtype: int64"
      ]
     },
     "execution_count": 15,
     "metadata": {},
     "output_type": "execute_result"
    }
   ],
   "source": [
    "sharks_df.isna().sum()"
   ]
  },
  {
   "cell_type": "code",
   "execution_count": 10,
   "id": "903ac8f3",
   "metadata": {},
   "outputs": [
    {
     "data": {
      "text/plain": [
       "0        True\n",
       "1        True\n",
       "2        True\n",
       "3        True\n",
       "4        True\n",
       "        ...  \n",
       "6926    False\n",
       "6927    False\n",
       "6928    False\n",
       "6929    False\n",
       "6930    False\n",
       "Name: href formula, Length: 6931, dtype: bool"
      ]
     },
     "execution_count": 10,
     "metadata": {},
     "output_type": "execute_result"
    }
   ],
   "source": [
    "sharks_df['href formula'].isnull()"
   ]
  },
  {
   "cell_type": "code",
   "execution_count": 13,
   "id": "b6664c76",
   "metadata": {},
   "outputs": [
    {
     "data": {
      "text/plain": [
       "http://sharkattackfile.net/spreadsheets/pdf_directory/                                       0.003666\n",
       "http://sharkattackfile.net/spreadsheets/pdf_directory/1906.09.27.R.a&b-Munich-Swede.pdf      0.000293\n",
       "http://sharkattackfile.net/spreadsheets/pdf_directory/1916.12.08.a-b-German.pdf              0.000293\n",
       "http://sharkattackfile.net/spreadsheets/pdf_directory/1929.03.04.a-b.Roads-Aldridge.pdf      0.000293\n",
       "http://sharkattackfile.net/spreadsheets/pdf_directory/1916.07.12.a-b-Stillwell-Fisher.pdf    0.000293\n",
       "                                                                                               ...   \n",
       "http://sharkattackfile.net/spreadsheets/pdf_directory/2003.04.15-Venezuela.pdf               0.000147\n",
       "http://sharkattackfile.net/spreadsheets/pdf_directory/2003.04.18-PatrickAFB.pdf              0.000147\n",
       "http://sharkattackfile.net/spreadsheets/pdf_directory/2003.04.19-SD.pdf                      0.000147\n",
       "http://sharkattackfile.net/spreadsheets/pdf_directory/2003.04.20.a-StephenFlowers.pdf        0.000147\n",
       "http://sharkattackfile.net/spreadsheets/pdf_directory/1983.10.17.a-Kalein.pdf                0.000147\n",
       "Name: href formula, Length: 6785, dtype: float64"
      ]
     },
     "execution_count": 13,
     "metadata": {},
     "output_type": "execute_result"
    }
   ],
   "source": [
    "sharks_df['href formula'].value_counts(-50)"
   ]
  },
  {
   "cell_type": "code",
   "execution_count": 5,
   "id": "7f432175",
   "metadata": {},
   "outputs": [
    {
     "data": {
      "text/plain": [
       "6789"
      ]
     },
     "execution_count": 5,
     "metadata": {},
     "output_type": "execute_result"
    }
   ],
   "source": [
    "sharks_df['pdf'].nunique()"
   ]
  },
  {
   "cell_type": "code",
   "execution_count": 6,
   "id": "7e42c38d",
   "metadata": {},
   "outputs": [
    {
     "data": {
      "text/plain": [
       "0       True\n",
       "1       True\n",
       "2       True\n",
       "3       True\n",
       "4       True\n",
       "        ... \n",
       "6926    True\n",
       "6927    True\n",
       "6928    True\n",
       "6929    True\n",
       "6930    True\n",
       "Name: pdf, Length: 6931, dtype: bool"
      ]
     },
     "execution_count": 6,
     "metadata": {},
     "output_type": "execute_result"
    }
   ],
   "source": [
    "sharks_df['pdf'].isnull()"
   ]
  },
  {
   "cell_type": "code",
   "execution_count": 8,
   "id": "b28bbeae",
   "metadata": {},
   "outputs": [
    {
     "data": {
      "text/plain": [
       "1907.10.16.R-HongKong.pdf            0.000294\n",
       "1921.11.27.a-b-Jack.pdf              0.000294\n",
       "1935.06.05.R-SolomonIslands.pdf      0.000294\n",
       "1916.12.08.a-b-German.pdf            0.000294\n",
       "1929.03.04.a-b.Roads-Aldridge.pdf    0.000294\n",
       "                                       ...   \n",
       "2003.04.19-SD.pdf                    0.000147\n",
       "2003.04.20.a-StephenFlowers.pdf      0.000147\n",
       "2003.04.20.b-Albright.pdf            0.000147\n",
       "2003.04.20.c-Ryan.pdf                0.000147\n",
       "ND-0001-Ceylon.pdf                   0.000147\n",
       "Name: pdf, Length: 6789, dtype: float64"
      ]
     },
     "execution_count": 8,
     "metadata": {},
     "output_type": "execute_result"
    }
   ],
   "source": [
    "sharks_df['pdf'].value_counts(50)"
   ]
  },
  {
   "cell_type": "code",
   "execution_count": null,
   "id": "9ad6427b",
   "metadata": {},
   "outputs": [],
   "source": [
    "gender_series = pd.read_csv(url, usecols=[\"Sex\"])\n",
    "gender_series"
   ]
  },
  {
   "cell_type": "code",
   "execution_count": null,
   "id": "488f4a00",
   "metadata": {},
   "outputs": [],
   "source": [
    "gender_series.value_counts(normalize=True, ascending=False).head(20)"
   ]
  },
  {
   "cell_type": "code",
   "execution_count": null,
   "id": "a57808cd",
   "metadata": {
    "scrolled": true
   },
   "outputs": [],
   "source": [
    "sharks_df.shape"
   ]
  },
  {
   "cell_type": "code",
   "execution_count": null,
   "id": "18f72939",
   "metadata": {},
   "outputs": [],
   "source": []
  },
  {
   "cell_type": "code",
   "execution_count": null,
   "id": "a495630c",
   "metadata": {},
   "outputs": [],
   "source": [
    "sharks_df.info()"
   ]
  },
  {
   "cell_type": "code",
   "execution_count": null,
   "id": "b8fa9a4a",
   "metadata": {},
   "outputs": [],
   "source": [
    "sharks_df.nunique()"
   ]
  },
  {
   "cell_type": "code",
   "execution_count": 17,
   "id": "f0c26b32",
   "metadata": {},
   "outputs": [
    {
     "data": {
      "text/plain": [
       "['Date',\n",
       " 'Year',\n",
       " 'Type',\n",
       " 'Country',\n",
       " 'State',\n",
       " 'Location',\n",
       " 'Activity',\n",
       " 'Name',\n",
       " 'Sex',\n",
       " 'Age',\n",
       " 'Injury',\n",
       " 'Unnamed: 11',\n",
       " 'Time',\n",
       " 'Species ',\n",
       " 'Source',\n",
       " 'href formula',\n",
       " 'href',\n",
       " 'Case Number',\n",
       " 'Case Number.1',\n",
       " 'original order',\n",
       " 'Unnamed: 21',\n",
       " 'Unnamed: 22']"
      ]
     },
     "execution_count": 17,
     "metadata": {},
     "output_type": "execute_result"
    }
   ],
   "source": [
    "list(sharks_df.columns)"
   ]
  },
  {
   "cell_type": "code",
   "execution_count": null,
   "id": "d0784a71",
   "metadata": {},
   "outputs": [],
   "source": [
    "location_series = pd.read_csv(url, usecols=[\"Location\"])\n",
    "location_series"
   ]
  },
  {
   "cell_type": "code",
   "execution_count": null,
   "id": "fabe5361",
   "metadata": {},
   "outputs": [],
   "source": [
    "location_series.value_counts(ascending=False).head(60)"
   ]
  },
  {
   "cell_type": "code",
   "execution_count": null,
   "id": "21e96183",
   "metadata": {},
   "outputs": [],
   "source": [
    "activity_series = pd.read_csv(url, usecols=[\"Activity\"])\n",
    "activity_series"
   ]
  },
  {
   "cell_type": "code",
   "execution_count": null,
   "id": "aff83386",
   "metadata": {},
   "outputs": [],
   "source": [
    "activity_series.value_counts(ascending=False).head(60)"
   ]
  },
  {
   "cell_type": "code",
   "execution_count": null,
   "id": "14a9aa06",
   "metadata": {},
   "outputs": [],
   "source": [
    "time_series = pd.read_csv(url, usecols=[\"Time\"])\n",
    "time_series"
   ]
  },
  {
   "cell_type": "code",
   "execution_count": null,
   "id": "0d3a9343",
   "metadata": {},
   "outputs": [],
   "source": [
    "time_series.value_counts(ascending=False).head(60)"
   ]
  },
  {
   "cell_type": "code",
   "execution_count": null,
   "id": "a2615e80",
   "metadata": {},
   "outputs": [],
   "source": [
    "age_series = pd.read_csv(url, usecols=[\"Age\"])\n",
    "age_series"
   ]
  },
  {
   "cell_type": "code",
   "execution_count": null,
   "id": "6d159841",
   "metadata": {},
   "outputs": [],
   "source": [
    "age_series.value_counts(normalize=True,ascending=False).head(60)\n",
    "                                            "
   ]
  },
  {
   "cell_type": "code",
   "execution_count": null,
   "id": "35b936c6",
   "metadata": {},
   "outputs": [],
   "source": [
    "country_series = pd.read_csv(url, usecols=[\"Country\"])\n",
    "country_series.value_counts(ascending=False).head(60)"
   ]
  },
  {
   "cell_type": "code",
   "execution_count": null,
   "id": "5f075de8",
   "metadata": {},
   "outputs": [],
   "source": [
    "country_series.value_counts(normalize=True,ascending=False).head(60)"
   ]
  },
  {
   "cell_type": "code",
   "execution_count": null,
   "id": "e8cfdb23",
   "metadata": {},
   "outputs": [],
   "source": [
    "injury_series = pd.read_csv(url, usecols=[\"Injury\"])\n",
    "injury_series.value_counts(ascending=False).head(60)"
   ]
  },
  {
   "cell_type": "code",
   "execution_count": null,
   "id": "de489b83",
   "metadata": {},
   "outputs": [],
   "source": [
    "sharks_df[[\"Activity\", \"Injury\"]].head(60)"
   ]
  },
  {
   "cell_type": "code",
   "execution_count": null,
   "id": "d8f0bbd1",
   "metadata": {},
   "outputs": [],
   "source": []
  }
 ],
 "metadata": {
  "kernelspec": {
   "display_name": "Python 3 (ipykernel)",
   "language": "python",
   "name": "python3"
  },
  "language_info": {
   "codemirror_mode": {
    "name": "ipython",
    "version": 3
   },
   "file_extension": ".py",
   "mimetype": "text/x-python",
   "name": "python",
   "nbconvert_exporter": "python",
   "pygments_lexer": "ipython3",
   "version": "3.11.4"
  }
 },
 "nbformat": 4,
 "nbformat_minor": 5
}
