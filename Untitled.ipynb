{
 "cells": [
  {
   "cell_type": "code",
   "execution_count": 3,
   "id": "aa20e7dd",
   "metadata": {},
   "outputs": [],
   "source": [
    "import pandas as pd\n",
    "\n",
    "url = 'https://raw.githubusercontent.com/yveness7/IronHackIvet/main/Week_2/sharkattack!/sharks.csv'\n",
    "\n",
    "sharks_df = pd.read_csv(url)\n",
    "\n",
    "\n",
    "\n",
    "\n",
    "\n",
    "\n",
    "\n",
    "\n",
    "#after checking the contant of the columns\n",
    "#we need to drop the columns that don't contain \n",
    "#info that we need or do now have values at all \n",
    "\n",
    "\n",
    "\n",
    "def drop_columns():\n",
    "    \n",
    "    sharks_df.drop(\"pdf\", axis='columns',inplace=True)\n",
    "    sharks_df.drop(\"href formula\", axis='columns',inplace=True)\n",
    "    sharks_df.drop(\"href\", axis='columns',inplace=True)\n",
    "    sharks_df.drop('Case Number', axis='columns',inplace=True)\n",
    "    sharks_df.drop(\"Case Number.1\", axis='columns',inplace=True)\n",
    "    sharks_df.drop(\"original order\", axis='columns',inplace=True)\n",
    "    sharks_df.drop(\"Unnamed: 21\", axis='columns',inplace=True)\n",
    "    sharks_df.drop(\"Unnamed: 22\", axis='columns',inplace=True)\n",
    "    sharks_df.drop(\"Unnamed: 11\", axis='columns',inplace=True)\n",
    "    sharks_df.drop(\"Source\", axis='columns',inplace=True)\n",
    "    sharks_df.columns = sharks_df.columns.str.lower()\n",
    "\n",
    "    return sharks_df.columns\n",
    "    "
   ]
  },
  {
   "cell_type": "code",
   "execution_count": 4,
   "id": "89ce405e",
   "metadata": {},
   "outputs": [
    {
     "data": {
      "text/plain": [
       "Index(['date', 'year', 'type', 'country', 'state', 'location', 'activity',\n",
       "       'name', 'sex', 'age', 'injury', 'time', 'species '],\n",
       "      dtype='object')"
      ]
     },
     "execution_count": 4,
     "metadata": {},
     "output_type": "execute_result"
    }
   ],
   "source": [
    "sharks_df.columns"
   ]
  },
  {
   "cell_type": "code",
   "execution_count": 9,
   "id": "5afe36fa",
   "metadata": {},
   "outputs": [],
   "source": [
    "def activity_mapping():\n",
    "\n",
    "    mapping={\n",
    "    \n",
    "    'Invalid':'Unconfirmed',\n",
    "    'Questionable':'Unconfirmed',\n",
    "    'Sea Disaster':'Unconfirmed',\n",
    "    'Unconfirmed':'Unconfirmed',    \n",
    "    'N':'Unconfirmed',\n",
    "    'Unverified':'Unconfirmed',\n",
    "    'Under investigation':'Unconfirmed',\n",
    "    '?':'Unconfirmed',\n",
    "    'Boat':'Watercraft',\n",
    "    'Watercraft':'Watercraft'\n",
    "    \n",
    "    }\n",
    "\n",
    "    sharks_df['type'] = sharks_df['type'].replace(mapping)\n",
    "\n",
    "    return sharks_df['type'] "
   ]
  },
  {
   "cell_type": "code",
   "execution_count": 10,
   "id": "9976a069",
   "metadata": {},
   "outputs": [
    {
     "data": {
      "text/plain": [
       "0         Unprovoked\n",
       "1       Questionable\n",
       "2         Unprovoked\n",
       "3         Unprovoked\n",
       "4         Unprovoked\n",
       "            ...     \n",
       "6926             NaN\n",
       "6927             NaN\n",
       "6928             NaN\n",
       "6929             NaN\n",
       "6930             NaN\n",
       "Name: type, Length: 6931, dtype: object"
      ]
     },
     "execution_count": 10,
     "metadata": {},
     "output_type": "execute_result"
    }
   ],
   "source": [
    "sharks_df['type'] "
   ]
  },
  {
   "cell_type": "code",
   "execution_count": null,
   "id": "f5a92c41",
   "metadata": {},
   "outputs": [],
   "source": []
  }
 ],
 "metadata": {
  "kernelspec": {
   "display_name": "Python 3 (ipykernel)",
   "language": "python",
   "name": "python3"
  },
  "language_info": {
   "codemirror_mode": {
    "name": "ipython",
    "version": 3
   },
   "file_extension": ".py",
   "mimetype": "text/x-python",
   "name": "python",
   "nbconvert_exporter": "python",
   "pygments_lexer": "ipython3",
   "version": "3.11.4"
  }
 },
 "nbformat": 4,
 "nbformat_minor": 5
}
